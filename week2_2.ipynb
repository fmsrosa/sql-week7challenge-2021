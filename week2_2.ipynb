{
 "cells": [
  {
   "cell_type": "code",
   "execution_count": 283,
   "id": "140cbe25-2259-466d-9354-c482c05db314",
   "metadata": {},
   "outputs": [],
   "source": [
    "%LOAD pizza_runner_changed.db rw"
   ]
  },
  {
   "cell_type": "markdown",
   "id": "824a0df2-ed84-473f-95af-53133f083aec",
   "metadata": {},
   "source": [
    "\"Before you start writing your SQL queries however - you might want to investigate the data, you may want to do something with some of those null values and data types in the customer_orders and runner_orders tables!\""
   ]
  },
  {
   "cell_type": "markdown",
   "id": "e436e512-ce62-47db-9c80-830f6d689a04",
   "metadata": {},
   "source": [
    "## Tables"
   ]
  },
  {
   "cell_type": "code",
   "execution_count": 284,
   "id": "e8571546-f728-4372-993b-48f3a82eda4a",
   "metadata": {},
   "outputs": [
    {
     "data": {
      "text/html": [
       "<table>\n",
       "<tr>\n",
       "<th>name</th>\n",
       "<th>sql</th>\n",
       "</tr>\n",
       "<tr>\n",
       "<td>runners</td>\n",
       "<td>CREATE TABLE runners (\n",
       "  \"runner_id\" INTEGER,\n",
       "  \"registration_date\" DATE\n",
       ")</td>\n",
       "</tr>\n",
       "<tr>\n",
       "<td>customer_orders</td>\n",
       "<td>CREATE TABLE customer_orders (\n",
       "  \"order_id\" INTEGER,\n",
       "  \"customer_id\" INTEGER,\n",
       "  \"pizza_id\" INTEGER,\n",
       "  \"exclusions\" VARCHAR(4),\n",
       "  \"extras\" VARCHAR(4),\n",
       "  \"order_time\" TIMESTAMP\n",
       ")</td>\n",
       "</tr>\n",
       "<tr>\n",
       "<td>runner_orders</td>\n",
       "<td>CREATE TABLE runner_orders (\n",
       "  \"order_id\" INTEGER,\n",
       "  \"runner_id\" INTEGER,\n",
       "  \"pickup_time\" VARCHAR(19),\n",
       "  \"distance\" VARCHAR(7),\n",
       "  \"duration\" VARCHAR(10),\n",
       "  \"cancellation\" VARCHAR(23)\n",
       ")</td>\n",
       "</tr>\n",
       "<tr>\n",
       "<td>pizza_names</td>\n",
       "<td>CREATE TABLE pizza_names (\n",
       "  \"pizza_id\" INTEGER,\n",
       "  \"pizza_name\" TEXT\n",
       ")</td>\n",
       "</tr>\n",
       "<tr>\n",
       "<td>pizza_recipes</td>\n",
       "<td>CREATE TABLE pizza_recipes (\n",
       "  \"pizza_id\" INTEGER,\n",
       "  \"toppings\" TEXT\n",
       ")</td>\n",
       "</tr>\n",
       "<tr>\n",
       "<td>pizza_toppings</td>\n",
       "<td>CREATE TABLE pizza_toppings (\n",
       "  \"topping_id\" INTEGER,\n",
       "  \"topping_name\" TEXT\n",
       ")</td>\n",
       "</tr>\n",
       "</table>"
      ],
      "text/plain": [
       "+-----------------+--------------------------------+\n",
       "| name            | sql                            |\n",
       "+-----------------+--------------------------------+\n",
       "| runners         | CREATE TABLE runners (         |\n",
       "|                 | \"runner_id\" INTEGER,           |\n",
       "|                 | \"registration_date\" DATE       |\n",
       "|                 | )                              |\n",
       "+-----------------+--------------------------------+\n",
       "| customer_orders | CREATE TABLE customer_orders ( |\n",
       "|                 | \"order_id\" INTEGER,            |\n",
       "|                 | \"customer_id\" INTEGER,         |\n",
       "|                 | \"pizza_id\" INTEGER,            |\n",
       "|                 | \"exclusions\" VARCHAR(4),       |\n",
       "|                 | \"extras\" VARCHAR(4),           |\n",
       "|                 | \"order_time\" TIMESTAMP         |\n",
       "|                 | )                              |\n",
       "+-----------------+--------------------------------+\n",
       "| runner_orders   | CREATE TABLE runner_orders (   |\n",
       "|                 | \"order_id\" INTEGER,            |\n",
       "|                 | \"runner_id\" INTEGER,           |\n",
       "|                 | \"pickup_time\" VARCHAR(19),     |\n",
       "|                 | \"distance\" VARCHAR(7),         |\n",
       "|                 | \"duration\" VARCHAR(10),        |\n",
       "|                 | \"cancellation\" VARCHAR(23)     |\n",
       "|                 | )                              |\n",
       "+-----------------+--------------------------------+\n",
       "| pizza_names     | CREATE TABLE pizza_names (     |\n",
       "|                 | \"pizza_id\" INTEGER,            |\n",
       "|                 | \"pizza_name\" TEXT              |\n",
       "|                 | )                              |\n",
       "+-----------------+--------------------------------+\n",
       "| pizza_recipes   | CREATE TABLE pizza_recipes (   |\n",
       "|                 | \"pizza_id\" INTEGER,            |\n",
       "|                 | \"toppings\" TEXT                |\n",
       "|                 | )                              |\n",
       "+-----------------+--------------------------------+\n",
       "| pizza_toppings  | CREATE TABLE pizza_toppings (  |\n",
       "|                 | \"topping_id\" INTEGER,          |\n",
       "|                 | \"topping_name\" TEXT            |\n",
       "|                 | )                              |\n",
       "+-----------------+--------------------------------+"
      ]
     },
     "execution_count": 284,
     "metadata": {},
     "output_type": "execute_result"
    }
   ],
   "source": [
    "SELECT name, sql\n",
    "FROM sqlite_schema\n",
    "WHERE type ='table';"
   ]
  },
  {
   "cell_type": "code",
   "execution_count": 285,
   "id": "f2ff2dc3-a4cd-4743-965a-ce53c129d995",
   "metadata": {},
   "outputs": [
    {
     "data": {
      "text/html": [
       "<table>\n",
       "<tr>\n",
       "<th>cid</th>\n",
       "<th>name</th>\n",
       "<th>type</th>\n",
       "<th>notnull</th>\n",
       "<th>dflt_value</th>\n",
       "<th>pk</th>\n",
       "</tr>\n",
       "<tr>\n",
       "<td>0</td>\n",
       "<td>order_id</td>\n",
       "<td>INTEGER</td>\n",
       "<td>0</td>\n",
       "<td></td>\n",
       "<td>0</td>\n",
       "</tr>\n",
       "<tr>\n",
       "<td>1</td>\n",
       "<td>runner_id</td>\n",
       "<td>INTEGER</td>\n",
       "<td>0</td>\n",
       "<td></td>\n",
       "<td>0</td>\n",
       "</tr>\n",
       "<tr>\n",
       "<td>2</td>\n",
       "<td>pickup_time</td>\n",
       "<td>VARCHAR(19)</td>\n",
       "<td>0</td>\n",
       "<td></td>\n",
       "<td>0</td>\n",
       "</tr>\n",
       "<tr>\n",
       "<td>3</td>\n",
       "<td>distance</td>\n",
       "<td>VARCHAR(7)</td>\n",
       "<td>0</td>\n",
       "<td></td>\n",
       "<td>0</td>\n",
       "</tr>\n",
       "<tr>\n",
       "<td>4</td>\n",
       "<td>duration</td>\n",
       "<td>VARCHAR(10)</td>\n",
       "<td>0</td>\n",
       "<td></td>\n",
       "<td>0</td>\n",
       "</tr>\n",
       "<tr>\n",
       "<td>5</td>\n",
       "<td>cancellation</td>\n",
       "<td>VARCHAR(23)</td>\n",
       "<td>0</td>\n",
       "<td></td>\n",
       "<td>0</td>\n",
       "</tr>\n",
       "</table>"
      ],
      "text/plain": [
       "+-----+--------------+-------------+---------+------------+----+\n",
       "| cid | name         | type        | notnull | dflt_value | pk |\n",
       "+-----+--------------+-------------+---------+------------+----+\n",
       "| 0   | order_id     | INTEGER     | 0       |            | 0  |\n",
       "+-----+--------------+-------------+---------+------------+----+\n",
       "| 1   | runner_id    | INTEGER     | 0       |            | 0  |\n",
       "+-----+--------------+-------------+---------+------------+----+\n",
       "| 2   | pickup_time  | VARCHAR(19) | 0       |            | 0  |\n",
       "+-----+--------------+-------------+---------+------------+----+\n",
       "| 3   | distance     | VARCHAR(7)  | 0       |            | 0  |\n",
       "+-----+--------------+-------------+---------+------------+----+\n",
       "| 4   | duration     | VARCHAR(10) | 0       |            | 0  |\n",
       "+-----+--------------+-------------+---------+------------+----+\n",
       "| 5   | cancellation | VARCHAR(23) | 0       |            | 0  |\n",
       "+-----+--------------+-------------+---------+------------+----+"
      ]
     },
     "execution_count": 285,
     "metadata": {},
     "output_type": "execute_result"
    }
   ],
   "source": [
    "PRAGMA table_info(runner_orders);"
   ]
  },
  {
   "cell_type": "markdown",
   "id": "1003d261-75c8-4912-87dc-d0d4c38e8fa9",
   "metadata": {},
   "source": [
    "### Table customer_orders"
   ]
  },
  {
   "cell_type": "code",
   "execution_count": 286,
   "id": "e0dbe4dd-0d5d-45af-bb8c-ee30a01799cf",
   "metadata": {},
   "outputs": [],
   "source": [
    "DROP VIEW clean_customer_orders;"
   ]
  },
  {
   "cell_type": "code",
   "execution_count": 287,
   "id": "a86c7876-1d21-4071-80b0-9b01d663e367",
   "metadata": {},
   "outputs": [],
   "source": [
    "CREATE VIEW clean_customer_orders AS\n",
    "\n",
    "WITH with_rows AS (\n",
    "    SELECT ROW_NUMBER () OVER ( \n",
    "    ORDER BY order_id \n",
    "    ) unique_id, *\n",
    "    FROM customer_orders),\n",
    "\n",
    "clean_exclusions AS (\n",
    "    SELECT unique_id,\n",
    "        CASE WHEN exclusions IN ('null', '') THEN NULL \n",
    "        ELSE exclusions END AS exclusions\n",
    "    FROM with_rows),\n",
    "\n",
    "clean_extras AS (\n",
    "    SELECT unique_id,\n",
    "        CASE WHEN extras IN ('null', '') THEN NULL \n",
    "        ELSE extras END AS extras\n",
    "    FROM with_rows)\n",
    "    \n",
    "SELECT wr.unique_id, wr.order_id, wr.customer_id, wr.pizza_id, wr.order_time,\n",
    "        ce_minus.exclusions, ce_plus.extras\n",
    "FROM with_rows AS wr\n",
    "INNER JOIN clean_exclusions AS ce_minus\n",
    "USING(unique_id)\n",
    "INNER JOIN clean_extras AS ce_plus\n",
    "USING(unique_id)"
   ]
  },
  {
   "cell_type": "markdown",
   "id": "9064bf70-7e21-48d6-86b0-3470b925235b",
   "metadata": {},
   "source": [
    "### Table runner_orders"
   ]
  },
  {
   "cell_type": "code",
   "execution_count": 288,
   "id": "a013e300-a9dc-45cd-911d-432b939f8998",
   "metadata": {},
   "outputs": [],
   "source": [
    "DROP VIEW clean_runner_orders;"
   ]
  },
  {
   "cell_type": "code",
   "execution_count": 289,
   "id": "e03fb62a-0115-474d-b158-433710cacf6d",
   "metadata": {},
   "outputs": [],
   "source": [
    "CREATE VIEW clean_runner_orders AS\n",
    "\n",
    "WITH clean_pickup_time AS (\n",
    "    SELECT order_id, datetime(\n",
    "        CASE WHEN pickup_time IN ('null', '') THEN NULL \n",
    "        ELSE pickup_time END) AS pickup_time\n",
    "    FROM runner_orders),\n",
    "    \n",
    "clean_distance AS (\n",
    "    SELECT order_id, CAST(\n",
    "        CASE WHEN distance IN ('null', '') THEN NULL\n",
    "        ELSE distance END AS INT) AS distance\n",
    "    FROM runner_orders),\n",
    "    \n",
    "clean_duration AS (\n",
    "    SELECT order_id, CAST(\n",
    "        CASE WHEN duration IN ('null', '') THEN NULL\n",
    "        ELSE duration END AS INT) AS duration\n",
    "    FROM runner_orders),\n",
    "    \n",
    "clean_cancellation AS (\n",
    "    SELECT order_id, CAST(\n",
    "        CASE WHEN cancellation IN ('null', '') THEN NULL\n",
    "        ELSE cancellation END AS VARCHAR(20)) AS cancellation\n",
    "    FROM runner_orders)\n",
    "    \n",
    "SELECT ro.order_id, ro.runner_id, \n",
    "        cpt.pickup_time, CAST(cdi.distance AS INT), cdu.duration, cc.cancellation\n",
    "FROM runner_orders AS ro\n",
    "INNER JOIN clean_pickup_time AS cpt\n",
    "USING (order_id)\n",
    "INNER JOIN clean_duration AS cdu\n",
    "USING (order_id)\n",
    "INNER JOIN clean_distance AS cdi\n",
    "USING (order_id)\n",
    "INNER JOIN clean_cancellation AS cc\n",
    "USING (order_id);"
   ]
  },
  {
   "cell_type": "markdown",
   "id": "d751beac-978d-4c16-b74e-0c1a89ca6d74",
   "metadata": {},
   "source": [
    "## A. Pizza Metrics"
   ]
  },
  {
   "cell_type": "markdown",
   "id": "69fdbbec-37aa-42c6-901d-de0cd705e9aa",
   "metadata": {},
   "source": [
    "### 1. How many pizzas were ordered?"
   ]
  },
  {
   "cell_type": "code",
   "execution_count": 290,
   "id": "135ad64d-dfed-4c3c-a9e6-1788a5627ffb",
   "metadata": {},
   "outputs": [
    {
     "data": {
      "text/html": [
       "<table>\n",
       "<tr>\n",
       "<th>nr_of_pizzas</th>\n",
       "</tr>\n",
       "<tr>\n",
       "<td>14</td>\n",
       "</tr>\n",
       "</table>"
      ],
      "text/plain": [
       "+--------------+\n",
       "| nr_of_pizzas |\n",
       "+--------------+\n",
       "| 14           |\n",
       "+--------------+"
      ]
     },
     "execution_count": 290,
     "metadata": {},
     "output_type": "execute_result"
    }
   ],
   "source": [
    "SELECT COUNT(pizza_id) AS nr_of_pizzas\n",
    "FROM clean_customer_orders;"
   ]
  },
  {
   "cell_type": "markdown",
   "id": "b554b56a-757f-4364-b5ae-e8b209933f70",
   "metadata": {},
   "source": [
    "### 2.How many unique customer orders were made?\n",
    "I assume that we are looking for unique combinations of pizza_id, exclusions, and extras."
   ]
  },
  {
   "cell_type": "code",
   "execution_count": 293,
   "id": "1235dff8-44ba-4c27-ac4f-7ce0b5de2ed3",
   "metadata": {},
   "outputs": [
    {
     "data": {
      "text/html": [
       "<table>\n",
       "<tr>\n",
       "<th>unique_customer_orders</th>\n",
       "</tr>\n",
       "<tr>\n",
       "<td>8</td>\n",
       "</tr>\n",
       "</table>"
      ],
      "text/plain": [
       "+------------------------+\n",
       "| unique_customer_orders |\n",
       "+------------------------+\n",
       "| 8                      |\n",
       "+------------------------+"
      ]
     },
     "execution_count": 293,
     "metadata": {},
     "output_type": "execute_result"
    }
   ],
   "source": [
    "WITH distinct_orders AS (\n",
    "    SELECT DISTINCT pizza_id, exclusions, extras\n",
    "    FROM clean_customer_orders\n",
    "    )\n",
    "    \n",
    "SELECT COUNT(*) AS unique_customer_orders\n",
    "FROM distinct_orders;"
   ]
  },
  {
   "cell_type": "markdown",
   "id": "8a92b2ae-b56a-4540-ad41-18c2671b4d70",
   "metadata": {},
   "source": [
    "### 3. How many successful orders were delivered by each runner?"
   ]
  },
  {
   "cell_type": "code",
   "execution_count": 299,
   "id": "2b754bd3-fe74-470b-8670-4b3564b038b4",
   "metadata": {},
   "outputs": [
    {
     "data": {
      "text/html": [
       "<table>\n",
       "<tr>\n",
       "<th>runner_id</th>\n",
       "<th>nr_successful_orders</th>\n",
       "</tr>\n",
       "<tr>\n",
       "<td>1</td>\n",
       "<td>4</td>\n",
       "</tr>\n",
       "<tr>\n",
       "<td>2</td>\n",
       "<td>3</td>\n",
       "</tr>\n",
       "<tr>\n",
       "<td>3</td>\n",
       "<td>1</td>\n",
       "</tr>\n",
       "</table>"
      ],
      "text/plain": [
       "+-----------+----------------------+\n",
       "| runner_id | nr_successful_orders |\n",
       "+-----------+----------------------+\n",
       "| 1         | 4                    |\n",
       "+-----------+----------------------+\n",
       "| 2         | 3                    |\n",
       "+-----------+----------------------+\n",
       "| 3         | 1                    |\n",
       "+-----------+----------------------+"
      ]
     },
     "execution_count": 299,
     "metadata": {},
     "output_type": "execute_result"
    }
   ],
   "source": [
    "SELECT runner_id, COUNT(*) AS nr_successful_orders\n",
    "FROM clean_runner_orders\n",
    "WHERE cancellation IS NULL\n",
    "GROUP BY runner_id"
   ]
  },
  {
   "cell_type": "markdown",
   "id": "3f65510b-fa7d-4c17-ad6f-fb33a113b264",
   "metadata": {},
   "source": [
    "### 4. How many of each type of pizza was delivered?"
   ]
  },
  {
   "cell_type": "code",
   "execution_count": 309,
   "id": "ac421e1d-074e-4817-ab7b-df3f97e2cb7c",
   "metadata": {},
   "outputs": [
    {
     "data": {
      "text/html": [
       "<table>\n",
       "<tr>\n",
       "<th>pizza_name</th>\n",
       "<th>nr_pizzas</th>\n",
       "</tr>\n",
       "<tr>\n",
       "<td>Meatlovers</td>\n",
       "<td>9</td>\n",
       "</tr>\n",
       "<tr>\n",
       "<td>Vegetarian</td>\n",
       "<td>3</td>\n",
       "</tr>\n",
       "</table>"
      ],
      "text/plain": [
       "+------------+-----------+\n",
       "| pizza_name | nr_pizzas |\n",
       "+------------+-----------+\n",
       "| Meatlovers | 9         |\n",
       "+------------+-----------+\n",
       "| Vegetarian | 3         |\n",
       "+------------+-----------+"
      ]
     },
     "execution_count": 309,
     "metadata": {},
     "output_type": "execute_result"
    }
   ],
   "source": [
    "WITH successful_deliveries AS (\n",
    "    SELECT customer.*\n",
    "    FROM clean_runner_orders AS runner\n",
    "    INNER JOIN clean_customer_orders AS customer\n",
    "    USING(order_id)\n",
    "    WHERE runner.cancellation IS NULL)\n",
    "\n",
    "SELECT pn.pizza_name, COUNT(sd.order_id) AS nr_pizzas\n",
    "FROM successful_deliveries AS sd\n",
    "INNER JOIN pizza_names AS pn\n",
    "USING(pizza_id)\n",
    "GROUP BY sd.pizza_id"
   ]
  },
  {
   "cell_type": "markdown",
   "id": "9988e0ed-b054-4dff-a97f-26aa5d80a88c",
   "metadata": {},
   "source": [
    "### 5. How many Vegetarian and Meatlovers were ordered by each customer?"
   ]
  },
  {
   "cell_type": "code",
   "execution_count": 322,
   "id": "0c1f8e9d-687f-469f-a3ae-71d8a65fa3f1",
   "metadata": {},
   "outputs": [
    {
     "data": {
      "text/html": [
       "<table>\n",
       "<tr>\n",
       "<th>customer_id</th>\n",
       "<th>pizza_name</th>\n",
       "<th>nr_pizzas</th>\n",
       "</tr>\n",
       "<tr>\n",
       "<td>101</td>\n",
       "<td>Meatlovers</td>\n",
       "<td>2</td>\n",
       "</tr>\n",
       "<tr>\n",
       "<td>101</td>\n",
       "<td>Vegetarian</td>\n",
       "<td>1</td>\n",
       "</tr>\n",
       "<tr>\n",
       "<td>102</td>\n",
       "<td>Meatlovers</td>\n",
       "<td>2</td>\n",
       "</tr>\n",
       "<tr>\n",
       "<td>102</td>\n",
       "<td>Vegetarian</td>\n",
       "<td>1</td>\n",
       "</tr>\n",
       "<tr>\n",
       "<td>103</td>\n",
       "<td>Meatlovers</td>\n",
       "<td>3</td>\n",
       "</tr>\n",
       "<tr>\n",
       "<td>103</td>\n",
       "<td>Vegetarian</td>\n",
       "<td>1</td>\n",
       "</tr>\n",
       "<tr>\n",
       "<td>104</td>\n",
       "<td>Meatlovers</td>\n",
       "<td>3</td>\n",
       "</tr>\n",
       "<tr>\n",
       "<td>105</td>\n",
       "<td>Vegetarian</td>\n",
       "<td>1</td>\n",
       "</tr>\n",
       "</table>"
      ],
      "text/plain": [
       "+-------------+------------+-----------+\n",
       "| customer_id | pizza_name | nr_pizzas |\n",
       "+-------------+------------+-----------+\n",
       "| 101         | Meatlovers | 2         |\n",
       "+-------------+------------+-----------+\n",
       "| 101         | Vegetarian | 1         |\n",
       "+-------------+------------+-----------+\n",
       "| 102         | Meatlovers | 2         |\n",
       "+-------------+------------+-----------+\n",
       "| 102         | Vegetarian | 1         |\n",
       "+-------------+------------+-----------+\n",
       "| 103         | Meatlovers | 3         |\n",
       "+-------------+------------+-----------+\n",
       "| 103         | Vegetarian | 1         |\n",
       "+-------------+------------+-----------+\n",
       "| 104         | Meatlovers | 3         |\n",
       "+-------------+------------+-----------+\n",
       "| 105         | Vegetarian | 1         |\n",
       "+-------------+------------+-----------+"
      ]
     },
     "execution_count": 322,
     "metadata": {},
     "output_type": "execute_result"
    }
   ],
   "source": [
    "SELECT co.customer_id, pn.pizza_name, COUNT(*) AS nr_pizzas\n",
    "FROM customer_orders AS co\n",
    "INNER JOIN pizza_names AS pn\n",
    "USING(pizza_id)\n",
    "GROUP BY customer_id, pizza_id"
   ]
  },
  {
   "cell_type": "markdown",
   "id": "be672733-45a1-4d8f-9ee6-b7237b9be48a",
   "metadata": {},
   "source": [
    "### 6. What was the maximum number of pizzas delivered in a single order?\n",
    "I will only consider successful deliveries."
   ]
  },
  {
   "cell_type": "code",
   "execution_count": 329,
   "id": "21acdeee-2ff8-4030-937c-ccc50a293084",
   "metadata": {},
   "outputs": [
    {
     "data": {
      "text/html": [
       "<table>\n",
       "<tr>\n",
       "<th>max_of_pizzas_per_delivery</th>\n",
       "</tr>\n",
       "<tr>\n",
       "<td>3</td>\n",
       "</tr>\n",
       "</table>"
      ],
      "text/plain": [
       "+----------------------------+\n",
       "| max_of_pizzas_per_delivery |\n",
       "+----------------------------+\n",
       "| 3                          |\n",
       "+----------------------------+"
      ]
     },
     "execution_count": 329,
     "metadata": {},
     "output_type": "execute_result"
    }
   ],
   "source": [
    "WITH successful_deliveries AS (\n",
    "    SELECT customer.*\n",
    "    FROM clean_runner_orders AS runner\n",
    "    INNER JOIN clean_customer_orders AS customer\n",
    "    USING(order_id)\n",
    "    WHERE runner.cancellation IS NULL)\n",
    "    \n",
    "SELECT COUNT(order_id) AS max_of_pizzas_per_delivery\n",
    "FROM successful_deliveries AS sd\n",
    "GROUP BY order_id\n",
    "ORDER BY max_of_pizzas_per_delivery DESC\n",
    "LIMIT 1;"
   ]
  },
  {
   "cell_type": "markdown",
   "id": "12bf747b-c89f-42a6-bf29-406620ba31a9",
   "metadata": {},
   "source": [
    "### 7. For each customer, how many delivered pizzas had at least 1 change and how many had no changes?\n",
    "I will assume that changes are either exclusions or extras. I will only consider successful deliveries."
   ]
  },
  {
   "cell_type": "code",
   "execution_count": 357,
   "id": "4f2cba87-d95b-4b81-b67d-486413e2fda0",
   "metadata": {},
   "outputs": [
    {
     "data": {
      "text/html": [
       "<table>\n",
       "<tr>\n",
       "<th>customer_id</th>\n",
       "<th>val</th>\n",
       "<th>nr_pizzas</th>\n",
       "</tr>\n",
       "<tr>\n",
       "<td>101</td>\n",
       "<td>No changes</td>\n",
       "<td>2</td>\n",
       "</tr>\n",
       "<tr>\n",
       "<td>102</td>\n",
       "<td>No changes</td>\n",
       "<td>3</td>\n",
       "</tr>\n",
       "<tr>\n",
       "<td>103</td>\n",
       "<td>At least 1 change</td>\n",
       "<td>3</td>\n",
       "</tr>\n",
       "<tr>\n",
       "<td>104</td>\n",
       "<td>At least 1 change</td>\n",
       "<td>2</td>\n",
       "</tr>\n",
       "<tr>\n",
       "<td>104</td>\n",
       "<td>No changes</td>\n",
       "<td>1</td>\n",
       "</tr>\n",
       "<tr>\n",
       "<td>105</td>\n",
       "<td>At least 1 change</td>\n",
       "<td>1</td>\n",
       "</tr>\n",
       "</table>"
      ],
      "text/plain": [
       "+-------------+-------------------+-----------+\n",
       "| customer_id | val               | nr_pizzas |\n",
       "+-------------+-------------------+-----------+\n",
       "| 101         | No changes        | 2         |\n",
       "+-------------+-------------------+-----------+\n",
       "| 102         | No changes        | 3         |\n",
       "+-------------+-------------------+-----------+\n",
       "| 103         | At least 1 change | 3         |\n",
       "+-------------+-------------------+-----------+\n",
       "| 104         | At least 1 change | 2         |\n",
       "+-------------+-------------------+-----------+\n",
       "| 104         | No changes        | 1         |\n",
       "+-------------+-------------------+-----------+\n",
       "| 105         | At least 1 change | 1         |\n",
       "+-------------+-------------------+-----------+"
      ]
     },
     "execution_count": 357,
     "metadata": {},
     "output_type": "execute_result"
    }
   ],
   "source": [
    "WITH successful_deliveries AS (\n",
    "    SELECT customer.*\n",
    "    FROM clean_runner_orders AS runner\n",
    "    INNER JOIN clean_customer_orders AS customer\n",
    "    USING(order_id)\n",
    "    WHERE runner.cancellation IS NULL),\n",
    "    \n",
    "has_exclusions AS (\n",
    "    SELECT unique_id,\n",
    "        CASE WHEN exclusions IS NULL THEN 0\n",
    "        ELSE 1 END AS minus\n",
    "    FROM successful_deliveries),\n",
    "\n",
    "has_extras AS (\n",
    "    SELECT unique_id,\n",
    "        CASE WHEN extras IS NULL THEN 0\n",
    "        ELSE 1 END AS plus\n",
    "    FROM successful_deliveries),\n",
    "    \n",
    "col_changes AS (\n",
    "    SELECT sd.*, \n",
    "        CASE WHEN MAX(hp.plus, hm.minus) = 1 THEN 'At least 1 change'\n",
    "        ELSE 'No changes' END AS val\n",
    "    FROM successful_deliveries AS sd\n",
    "    INNER JOIN has_exclusions AS hm\n",
    "    USING (unique_id)\n",
    "    INNER JOIN has_extras AS hp\n",
    "    USING (unique_id) )\n",
    "    \n",
    "SELECT customer_id, val, COUNT(unique_id) AS nr_pizzas\n",
    "FROM col_changes\n",
    "GROUP BY customer_id, val;"
   ]
  },
  {
   "cell_type": "markdown",
   "id": "2d00ffb2-5b1c-412e-a566-80ba637d3f8c",
   "metadata": {},
   "source": [
    "### 8. How many pizzas were delivered that had both exclusions and extras?"
   ]
  },
  {
   "cell_type": "code",
   "execution_count": 366,
   "id": "0a5f1106-60d4-4763-a2f6-8f46d563dfd1",
   "metadata": {},
   "outputs": [
    {
     "data": {
      "text/html": [
       "<table>\n",
       "<tr>\n",
       "<th>nr_pizzas_with_exlusions_extras</th>\n",
       "</tr>\n",
       "<tr>\n",
       "<td>1</td>\n",
       "</tr>\n",
       "</table>"
      ],
      "text/plain": [
       "+---------------------------------+\n",
       "| nr_pizzas_with_exlusions_extras |\n",
       "+---------------------------------+\n",
       "| 1                               |\n",
       "+---------------------------------+"
      ]
     },
     "execution_count": 366,
     "metadata": {},
     "output_type": "execute_result"
    }
   ],
   "source": [
    "WITH successful_deliveries AS (\n",
    "    SELECT customer.*\n",
    "    FROM clean_runner_orders AS runner\n",
    "    INNER JOIN clean_customer_orders AS customer\n",
    "    USING(order_id)\n",
    "    WHERE runner.cancellation IS NULL),\n",
    "    \n",
    "has_exclusions AS (\n",
    "    SELECT unique_id,\n",
    "        CASE WHEN exclusions IS NULL THEN 0\n",
    "        ELSE 1 END AS minus\n",
    "    FROM successful_deliveries),\n",
    "\n",
    "has_extras AS (\n",
    "    SELECT unique_id,\n",
    "        CASE WHEN extras IS NULL THEN 0\n",
    "        ELSE 1 END AS plus\n",
    "    FROM successful_deliveries)\n",
    "    \n",
    "SELECT COUNT(unique_id) AS nr_pizzas_with_exlusions_extras\n",
    "FROM successful_deliveries AS sd\n",
    "INNER JOIN has_exclusions AS hm\n",
    "USING (unique_id)\n",
    "INNER JOIN has_extras AS hp\n",
    "USING (unique_id) \n",
    "WHERE hp.plus + hm.minus > 1"
   ]
  },
  {
   "cell_type": "markdown",
   "id": "3f789f44-cad0-4835-9886-2c1d893d911b",
   "metadata": {},
   "source": [
    "### 9. What was the total volume of pizzas ordered for each hour of the day?"
   ]
  },
  {
   "cell_type": "code",
   "execution_count": 375,
   "id": "43a85895-efb9-4098-80af-7b72136cd4f3",
   "metadata": {},
   "outputs": [
    {
     "data": {
      "text/html": [
       "<table>\n",
       "<tr>\n",
       "<th>hour</th>\n",
       "<th>nr_pizzas</th>\n",
       "</tr>\n",
       "<tr>\n",
       "<td>11</td>\n",
       "<td>1</td>\n",
       "</tr>\n",
       "<tr>\n",
       "<td>13</td>\n",
       "<td>3</td>\n",
       "</tr>\n",
       "<tr>\n",
       "<td>18</td>\n",
       "<td>3</td>\n",
       "</tr>\n",
       "<tr>\n",
       "<td>19</td>\n",
       "<td>1</td>\n",
       "</tr>\n",
       "<tr>\n",
       "<td>21</td>\n",
       "<td>3</td>\n",
       "</tr>\n",
       "<tr>\n",
       "<td>23</td>\n",
       "<td>3</td>\n",
       "</tr>\n",
       "</table>"
      ],
      "text/plain": [
       "+------+-----------+\n",
       "| hour | nr_pizzas |\n",
       "+------+-----------+\n",
       "| 11   | 1         |\n",
       "+------+-----------+\n",
       "| 13   | 3         |\n",
       "+------+-----------+\n",
       "| 18   | 3         |\n",
       "+------+-----------+\n",
       "| 19   | 1         |\n",
       "+------+-----------+\n",
       "| 21   | 3         |\n",
       "+------+-----------+\n",
       "| 23   | 3         |\n",
       "+------+-----------+"
      ]
     },
     "execution_count": 375,
     "metadata": {},
     "output_type": "execute_result"
    }
   ],
   "source": [
    "WITH with_hour AS (\n",
    "    SELECT *, strftime('%H', order_time) AS hour\n",
    "    FROM clean_customer_orders)\n",
    "    \n",
    "SELECT hour, COUNT(unique_id) AS nr_pizzas\n",
    "FROM with_hour\n",
    "GROUP BY hour"
   ]
  },
  {
   "cell_type": "markdown",
   "id": "fd141b09-e9cd-4cb5-a67e-851631451f8e",
   "metadata": {},
   "source": [
    "### 10. What was the volume of orders for each day of the week?"
   ]
  },
  {
   "cell_type": "code",
   "execution_count": 390,
   "id": "d109f148-daf5-43bb-a467-ec6f64fb55e0",
   "metadata": {},
   "outputs": [
    {
     "data": {
      "text/html": [
       "<table>\n",
       "<tr>\n",
       "<th>day</th>\n",
       "<th>nr_pizzas</th>\n",
       "</tr>\n",
       "<tr>\n",
       "<td>Friday</td>\n",
       "<td>1</td>\n",
       "</tr>\n",
       "<tr>\n",
       "<td>Saturday</td>\n",
       "<td>5</td>\n",
       "</tr>\n",
       "<tr>\n",
       "<td>Thursday</td>\n",
       "<td>3</td>\n",
       "</tr>\n",
       "<tr>\n",
       "<td>Wednesday</td>\n",
       "<td>5</td>\n",
       "</tr>\n",
       "</table>"
      ],
      "text/plain": [
       "+-----------+-----------+\n",
       "| day       | nr_pizzas |\n",
       "+-----------+-----------+\n",
       "| Friday    | 1         |\n",
       "+-----------+-----------+\n",
       "| Saturday  | 5         |\n",
       "+-----------+-----------+\n",
       "| Thursday  | 3         |\n",
       "+-----------+-----------+\n",
       "| Wednesday | 5         |\n",
       "+-----------+-----------+"
      ]
     },
     "execution_count": 390,
     "metadata": {},
     "output_type": "execute_result"
    }
   ],
   "source": [
    "WITH with_day AS (\n",
    "    SELECT *,\n",
    "    CASE WHEN strftime('%w', order_time) = '0' THEN 'Sunday'\n",
    "    WHEN strftime('%w', order_time) = '1' THEN 'Monday'\n",
    "    WHEN strftime('%w', order_time) = '2' THEN 'Tuesday'\n",
    "    WHEN strftime('%w', order_time) = '3' THEN 'Wednesday'\n",
    "    WHEN strftime('%w', order_time) = '4' THEN 'Thursday'\n",
    "    WHEN strftime('%w', order_time) = '5' THEN 'Friday'\n",
    "    WHEN strftime('%w', order_time) = '6' THEN 'Saturday' \n",
    "    ELSE '' END AS day\n",
    "    FROM clean_customer_orders)\n",
    "    \n",
    "SELECT day, COUNT(unique_id) AS nr_pizzas\n",
    "FROM with_day\n",
    "GROUP BY day\n"
   ]
  },
  {
   "cell_type": "markdown",
   "id": "d7104b8e-d0fe-4fba-94db-0373b90791e6",
   "metadata": {},
   "source": [
    "## B. Runner and Customer Experience"
   ]
  },
  {
   "cell_type": "markdown",
   "id": "5e9d188a-430b-44db-9d58-86e735614760",
   "metadata": {},
   "source": [
    "### 1. How many runners signed up for each 1 week period? (i.e. week starts 2021-01-01)"
   ]
  },
  {
   "cell_type": "code",
   "execution_count": 393,
   "id": "670cbb6c-dfe0-4bb7-a543-3dcaf5f65f0f",
   "metadata": {},
   "outputs": [
    {
     "data": {
      "text/html": [
       "<table>\n",
       "<tr>\n",
       "<th>runner_id</th>\n",
       "<th>registration_date</th>\n",
       "</tr>\n",
       "<tr>\n",
       "<td>1</td>\n",
       "<td>2021-01-01</td>\n",
       "</tr>\n",
       "<tr>\n",
       "<td>2</td>\n",
       "<td>2021-01-03</td>\n",
       "</tr>\n",
       "<tr>\n",
       "<td>3</td>\n",
       "<td>2021-01-08</td>\n",
       "</tr>\n",
       "<tr>\n",
       "<td>4</td>\n",
       "<td>2021-01-15</td>\n",
       "</tr>\n",
       "</table>"
      ],
      "text/plain": [
       "+-----------+-------------------+\n",
       "| runner_id | registration_date |\n",
       "+-----------+-------------------+\n",
       "| 1         | 2021-01-01        |\n",
       "+-----------+-------------------+\n",
       "| 2         | 2021-01-03        |\n",
       "+-----------+-------------------+\n",
       "| 3         | 2021-01-08        |\n",
       "+-----------+-------------------+\n",
       "| 4         | 2021-01-15        |\n",
       "+-----------+-------------------+"
      ]
     },
     "execution_count": 393,
     "metadata": {},
     "output_type": "execute_result"
    }
   ],
   "source": [
    "select * from runners"
   ]
  },
  {
   "cell_type": "code",
   "execution_count": 403,
   "id": "38efe724-fe4f-48f7-bd78-dd5db4baf787",
   "metadata": {},
   "outputs": [
    {
     "data": {
      "text/html": [
       "<table>\n",
       "<tr>\n",
       "<th>LAG(date('2021-01-01', '+7 day')) OVER (ORDER BY registration_date)</th>\n",
       "</tr>\n",
       "<tr>\n",
       "<td></td>\n",
       "</tr>\n",
       "<tr>\n",
       "<td>2021-01-08</td>\n",
       "</tr>\n",
       "<tr>\n",
       "<td>2021-01-08</td>\n",
       "</tr>\n",
       "<tr>\n",
       "<td>2021-01-08</td>\n",
       "</tr>\n",
       "</table>"
      ],
      "text/plain": [
       "+---------------------------------------------------------------------+\n",
       "| LAG(date('2021-01-01', '+7 day')) OVER (ORDER BY registration_date) |\n",
       "+---------------------------------------------------------------------+\n",
       "\n",
       "+---------------------------------------------------------------------+\n",
       "| 2021-01-08                                                          |\n",
       "+---------------------------------------------------------------------+\n",
       "| 2021-01-08                                                          |\n",
       "+---------------------------------------------------------------------+\n",
       "| 2021-01-08                                                          |\n",
       "+---------------------------------------------------------------------+"
      ]
     },
     "execution_count": 403,
     "metadata": {},
     "output_type": "execute_result"
    }
   ],
   "source": [
    "select LAG(date('2021-01-01', '+7 day')) OVER (ORDER BY registration_date)\n",
    "FROM runners\n",
    "\n"
   ]
  },
  {
   "cell_type": "code",
   "execution_count": null,
   "id": "cd4237cd-c85d-4cc6-9e9d-d34698fdf51f",
   "metadata": {},
   "outputs": [],
   "source": []
  }
 ],
 "metadata": {
  "kernelspec": {
   "display_name": "xsqlite",
   "language": "sqlite",
   "name": "xsqlite"
  },
  "language_info": {
   "codemirror_mode": "sql",
   "file_extension": "",
   "mimetype": "",
   "name": "sql",
   "version": "3.33.0"
  }
 },
 "nbformat": 4,
 "nbformat_minor": 5
}
