{
 "cells": [
  {
   "cell_type": "code",
   "execution_count": 1,
   "id": "d673d99f-a421-46c2-819b-46b7a6821363",
   "metadata": {},
   "outputs": [],
   "source": [
    "%LOAD test.db"
   ]
  },
  {
   "cell_type": "markdown",
   "id": "9f8fe14f-5f6e-4010-bce2-ca77d49bfe90",
   "metadata": {},
   "source": [
    "## High Level Sales Analysis"
   ]
  },
  {
   "cell_type": "markdown",
   "id": "f611e8b2-d02b-475c-9f50-291895d74d21",
   "metadata": {},
   "source": [
    "### 1. What was the total quantity sold for all products?"
   ]
  },
  {
   "cell_type": "code",
   "execution_count": 9,
   "id": "e5962046-e433-40d3-950b-acd254acd4c6",
   "metadata": {},
   "outputs": [
    {
     "data": {
      "text/html": [
       "<table>\n",
       "<tr>\n",
       "<th>total_qty</th>\n",
       "</tr>\n",
       "<tr>\n",
       "<td>45216</td>\n",
       "</tr>\n",
       "</table>"
      ],
      "text/plain": [
       "+-----------+\n",
       "| total_qty |\n",
       "+-----------+\n",
       "| 45216     |\n",
       "+-----------+"
      ]
     },
     "execution_count": 9,
     "metadata": {},
     "output_type": "execute_result"
    }
   ],
   "source": [
    "SELECT SUM(qty) AS total_qty\n",
    "FROM sales;"
   ]
  },
  {
   "cell_type": "markdown",
   "id": "891af711-4f94-41bb-b22f-ce5f32a06cd2",
   "metadata": {},
   "source": [
    "### 2. What is the total generated revenue for all products before discounts?"
   ]
  },
  {
   "cell_type": "code",
   "execution_count": 10,
   "id": "360f0a10-e42a-4572-a1dd-5725d57abfb8",
   "metadata": {},
   "outputs": [
    {
     "data": {
      "text/html": [
       "<table>\n",
       "<tr>\n",
       "<th>total_revenue</th>\n",
       "</tr>\n",
       "<tr>\n",
       "<td>1289453</td>\n",
       "</tr>\n",
       "</table>"
      ],
      "text/plain": [
       "+---------------+\n",
       "| total_revenue |\n",
       "+---------------+\n",
       "| 1289453       |\n",
       "+---------------+"
      ]
     },
     "execution_count": 10,
     "metadata": {},
     "output_type": "execute_result"
    }
   ],
   "source": [
    "SELECT SUM(qty*price) AS total_revenue\n",
    "FROM sales;"
   ]
  },
  {
   "cell_type": "markdown",
   "id": "64f87263-58fd-484a-a5fb-039aad497dc7",
   "metadata": {},
   "source": [
    "### 3. What was the total discount amount for all products?"
   ]
  },
  {
   "cell_type": "code",
   "execution_count": 11,
   "id": "b9581437-6d45-440a-a71d-923f3550cbea",
   "metadata": {},
   "outputs": [
    {
     "data": {
      "text/html": [
       "<table>\n",
       "<tr>\n",
       "<th>total_discount</th>\n",
       "</tr>\n",
       "<tr>\n",
       "<td>1289453</td>\n",
       "</tr>\n",
       "</table>"
      ],
      "text/plain": [
       "+----------------+\n",
       "| total_discount |\n",
       "+----------------+\n",
       "| 1289453        |\n",
       "+----------------+"
      ]
     },
     "execution_count": 11,
     "metadata": {},
     "output_type": "execute_result"
    }
   ],
   "source": [
    "SELECT SUM((qty*price)*(1-discount/100)) AS total_discount\n",
    "FROM sales;"
   ]
  },
  {
   "cell_type": "markdown",
   "id": "8894971e-e0dd-43d8-97fd-973ce4f9d97a",
   "metadata": {},
   "source": [
    "## Transaction Analysis"
   ]
  },
  {
   "cell_type": "markdown",
   "id": "e44f725d-81e9-47d8-9ae2-dba607170ed4",
   "metadata": {},
   "source": [
    "### 1. How many unique transactions were there?"
   ]
  },
  {
   "cell_type": "code",
   "execution_count": 12,
   "id": "3f6dd52a-24f1-404a-b922-67fa0904ee26",
   "metadata": {},
   "outputs": [
    {
     "data": {
      "text/html": [
       "<table>\n",
       "<tr>\n",
       "<th>unique_transactions</th>\n",
       "</tr>\n",
       "<tr>\n",
       "<td>2500</td>\n",
       "</tr>\n",
       "</table>"
      ],
      "text/plain": [
       "+---------------------+\n",
       "| unique_transactions |\n",
       "+---------------------+\n",
       "| 2500                |\n",
       "+---------------------+"
      ]
     },
     "execution_count": 12,
     "metadata": {},
     "output_type": "execute_result"
    }
   ],
   "source": [
    "SELECT COUNT (DISTINCT(txn_id)) AS unique_transactions\n",
    "FROM sales;"
   ]
  },
  {
   "cell_type": "markdown",
   "id": "e11ae482-9ce9-4676-b284-966be04a22e2",
   "metadata": {},
   "source": [
    "### 2. What is the average unique products purchased in each transaction?"
   ]
  },
  {
   "cell_type": "code",
   "execution_count": 15,
   "id": "6703e204-8ec6-4d0c-a626-2b548ce09e48",
   "metadata": {},
   "outputs": [
    {
     "data": {
      "text/html": [
       "<table>\n",
       "<tr>\n",
       "<th>avg_unique_products</th>\n",
       "</tr>\n",
       "<tr>\n",
       "<td>6.038</td>\n",
       "</tr>\n",
       "</table>"
      ],
      "text/plain": [
       "+---------------------+\n",
       "| avg_unique_products |\n",
       "+---------------------+\n",
       "| 6.038               |\n",
       "+---------------------+"
      ]
     },
     "execution_count": 15,
     "metadata": {},
     "output_type": "execute_result"
    }
   ],
   "source": [
    "SELECT AVG(counts) AS avg_unique_products\n",
    "FROM (\n",
    "  SELECT COUNT (DISTINCT(prod_id)) AS counts\n",
    "  FROM sales\n",
    "  GROUP BY txn_id) AS subquery;"
   ]
  },
  {
   "cell_type": "markdown",
   "id": "ac98bb45-8ec4-404f-a127-0022d682bf58",
   "metadata": {},
   "source": [
    "### 3. What are the 25th, 50th and 75th percentile values for the revenue per transaction?\n",
    "This works in SQL, but the kernel used here is SQLite, which does not recognise PERCENTILE_CONT."
   ]
  },
  {
   "cell_type": "code",
   "execution_count": 19,
   "id": "35a30056-25b5-4c4f-8431-5e0c059ada51",
   "metadata": {},
   "outputs": [
    {
     "ename": "Error",
     "evalue": "near \"(\": syntax error",
     "output_type": "error",
     "traceback": [
      "Error: near \"(\": syntax error"
     ]
    }
   ],
   "source": [
    "SELECT\n",
    "PERCENTILE_CONT(0.25) WITHIN GROUP (ORDER BY price) AS percentile25,\n",
    "PERCENTILE_CONT(0.50) WITHIN GROUP (ORDER BY price) AS percentile50,\n",
    "PERCENTILE_CONT(0.75) WITHIN GROUP (ORDER BY price) AS percentile75\n",
    "FROM sales\n",
    "GROUP BY txn_id;"
   ]
  },
  {
   "cell_type": "markdown",
   "id": "f34aa303-736a-412e-b1ba-978bfed525d5",
   "metadata": {},
   "source": [
    "### 4. What is the average discount value per transaction?"
   ]
  },
  {
   "cell_type": "code",
   "execution_count": 63,
   "id": "4cb9d9a4-c460-422c-90fe-216be4ed4052",
   "metadata": {},
   "outputs": [
    {
     "data": {
      "text/html": [
       "<table>\n",
       "<tr>\n",
       "<th>txn_id</th>\n",
       "<th>AVG(discount)</th>\n",
       "</tr>\n",
       "<tr>\n",
       "<td>000027</td>\n",
       "<td>13.0</td>\n",
       "</tr>\n",
       "<tr>\n",
       "<td>000106</td>\n",
       "<td>12.0</td>\n",
       "</tr>\n",
       "<tr>\n",
       "<td>000dd8</td>\n",
       "<td>6.0</td>\n",
       "</tr>\n",
       "<tr>\n",
       "<td>003920</td>\n",
       "<td>18.0</td>\n",
       "</tr>\n",
       "<tr>\n",
       "<td>003c6d</td>\n",
       "<td>13.0</td>\n",
       "</tr>\n",
       "</table>"
      ],
      "text/plain": [
       "+--------+---------------+\n",
       "| txn_id | AVG(discount) |\n",
       "+--------+---------------+\n",
       "| 000027 | 13.0          |\n",
       "+--------+---------------+\n",
       "| 000106 | 12.0          |\n",
       "+--------+---------------+\n",
       "| 000dd8 | 6.0           |\n",
       "+--------+---------------+\n",
       "| 003920 | 18.0          |\n",
       "+--------+---------------+\n",
       "| 003c6d | 13.0          |\n",
       "+--------+---------------+"
      ]
     },
     "execution_count": 63,
     "metadata": {},
     "output_type": "execute_result"
    }
   ],
   "source": [
    "SELECT txn_id, AVG(discount)\n",
    "FROM sales\n",
    "GROUP BY txn_id\n",
    "LIMIT 5;"
   ]
  },
  {
   "cell_type": "markdown",
   "id": "94ebafd5-27a5-4a69-99bd-08c2f138b55f",
   "metadata": {},
   "source": [
    "### 5. What is the percentage split of all transactions for members vs non-members?"
   ]
  },
  {
   "cell_type": "code",
   "execution_count": 128,
   "id": "7ffcc25e-05d3-47c3-b01e-f7b935f74f11",
   "metadata": {},
   "outputs": [
    {
     "data": {
      "text/html": [
       "<table>\n",
       "<tr>\n",
       "<th>member</th>\n",
       "<th>percentage</th>\n",
       "</tr>\n",
       "<tr>\n",
       "<td>f</td>\n",
       "<td>39.97</td>\n",
       "</tr>\n",
       "<tr>\n",
       "<td>t</td>\n",
       "<td>60.03</td>\n",
       "</tr>\n",
       "</table>"
      ],
      "text/plain": [
       "+--------+------------+\n",
       "| member | percentage |\n",
       "+--------+------------+\n",
       "| f      | 39.97      |\n",
       "+--------+------------+\n",
       "| t      | 60.03      |\n",
       "+--------+------------+"
      ]
     },
     "execution_count": 128,
     "metadata": {},
     "output_type": "execute_result"
    }
   ],
   "source": [
    "SELECT member, ROUND(COUNT(member) * 100.0/\n",
    "    (SELECT COUNT(member) \n",
    "     FROM SALES), 2) AS percentage\n",
    "FROM sales\n",
    "GROUP BY member;"
   ]
  },
  {
   "cell_type": "markdown",
   "id": "5e8857b3-7bd9-4653-ad77-c4dd2b6e3c5c",
   "metadata": {},
   "source": [
    "### 6. What is the average revenue for member transactions and non-member transactions?"
   ]
  },
  {
   "cell_type": "code",
   "execution_count": 62,
   "id": "761053d7-c67c-4258-8dad-aada1de8f76c",
   "metadata": {},
   "outputs": [
    {
     "data": {
      "text/html": [
       "<table>\n",
       "<tr>\n",
       "<th>member</th>\n",
       "<th>avg_revenue</th>\n",
       "</tr>\n",
       "<tr>\n",
       "<td>f</td>\n",
       "<td>84.9302287040106</td>\n",
       "</tr>\n",
       "<tr>\n",
       "<td>t</td>\n",
       "<td>85.7503586800574</td>\n",
       "</tr>\n",
       "</table>"
      ],
      "text/plain": [
       "+--------+------------------+\n",
       "| member | avg_revenue      |\n",
       "+--------+------------------+\n",
       "| f      | 84.9302287040106 |\n",
       "+--------+------------------+\n",
       "| t      | 85.7503586800574 |\n",
       "+--------+------------------+"
      ]
     },
     "execution_count": 62,
     "metadata": {},
     "output_type": "execute_result"
    }
   ],
   "source": [
    "SELECT member, AVG(qty*price) AS avg_revenue\n",
    "FROM sales\n",
    "GROUP BY member;"
   ]
  },
  {
   "cell_type": "markdown",
   "id": "bef7cf13-0b0a-4477-b661-bb70cfe42227",
   "metadata": {},
   "source": [
    "## Product Analysis"
   ]
  },
  {
   "cell_type": "markdown",
   "id": "78240f4a-92ff-44a2-a73d-7b2fadc2712e",
   "metadata": {},
   "source": [
    "### 1. What are the top 3 products by total revenue before discount?"
   ]
  },
  {
   "cell_type": "code",
   "execution_count": 30,
   "id": "5ee05101-e593-4f0a-b95d-9acecdbfad1d",
   "metadata": {},
   "outputs": [
    {
     "data": {
      "text/html": [
       "<table>\n",
       "<tr>\n",
       "<th>product_name</th>\n",
       "</tr>\n",
       "<tr>\n",
       "<td>Blue Polo Shirt - Mens</td>\n",
       "</tr>\n",
       "<tr>\n",
       "<td>Grey Fashion Jacket - Womens</td>\n",
       "</tr>\n",
       "<tr>\n",
       "<td>White Tee Shirt - Mens</td>\n",
       "</tr>\n",
       "</table>"
      ],
      "text/plain": [
       "+------------------------------+\n",
       "| product_name                 |\n",
       "+------------------------------+\n",
       "| Blue Polo Shirt - Mens       |\n",
       "+------------------------------+\n",
       "| Grey Fashion Jacket - Womens |\n",
       "+------------------------------+\n",
       "| White Tee Shirt - Mens       |\n",
       "+------------------------------+"
      ]
     },
     "execution_count": 30,
     "metadata": {},
     "output_type": "execute_result"
    }
   ],
   "source": [
    "SELECT pd.product_name\n",
    "FROM sales as s\n",
    "INNER JOIN \n",
    "product_details as pd\n",
    "ON s.prod_id = pd.product_id\n",
    "GROUP BY s.prod_id\n",
    "ORDER BY SUM(s.qty*s.price) DESC\n",
    "LIMIT 3;"
   ]
  },
  {
   "cell_type": "markdown",
   "id": "d79a1335-f051-447c-93a2-d009add6d4a1",
   "metadata": {},
   "source": [
    "### 2. What is the total quantity, revenue and discount for each segment?"
   ]
  },
  {
   "cell_type": "code",
   "execution_count": 26,
   "id": "edebcbac-c173-461f-af2e-d64515eb96ea",
   "metadata": {},
   "outputs": [
    {
     "data": {
      "text/html": [
       "<table>\n",
       "<tr>\n",
       "<th>segment_name</th>\n",
       "<th>qty</th>\n",
       "<th>revenue</th>\n",
       "<th>discount</th>\n",
       "</tr>\n",
       "<tr>\n",
       "<td>Jacket</td>\n",
       "<td>11385</td>\n",
       "<td>366983</td>\n",
       "<td>45452</td>\n",
       "</tr>\n",
       "<tr>\n",
       "<td>Jeans</td>\n",
       "<td>11349</td>\n",
       "<td>208350</td>\n",
       "<td>45740</td>\n",
       "</tr>\n",
       "<tr>\n",
       "<td>Shirt</td>\n",
       "<td>11265</td>\n",
       "<td>406143</td>\n",
       "<td>46043</td>\n",
       "</tr>\n",
       "<tr>\n",
       "<td>Socks</td>\n",
       "<td>11217</td>\n",
       "<td>307977</td>\n",
       "<td>45465</td>\n",
       "</tr>\n",
       "</table>"
      ],
      "text/plain": [
       "+--------------+-------+---------+----------+\n",
       "| segment_name | qty   | revenue | discount |\n",
       "+--------------+-------+---------+----------+\n",
       "| Jacket       | 11385 | 366983  | 45452    |\n",
       "+--------------+-------+---------+----------+\n",
       "| Jeans        | 11349 | 208350  | 45740    |\n",
       "+--------------+-------+---------+----------+\n",
       "| Shirt        | 11265 | 406143  | 46043    |\n",
       "+--------------+-------+---------+----------+\n",
       "| Socks        | 11217 | 307977  | 45465    |\n",
       "+--------------+-------+---------+----------+"
      ]
     },
     "execution_count": 26,
     "metadata": {},
     "output_type": "execute_result"
    }
   ],
   "source": [
    "SELECT pd.segment_name, SUM(s.qty) AS qty, SUM((s.qty*s.price)*(1-s.discount/100)) AS revenue, \n",
    "        SUM(s.discount) AS discount\n",
    "FROM sales AS s\n",
    "INNER JOIN\n",
    "product_details as pd\n",
    "ON s.prod_id = pd.product_id\n",
    "GROUP BY pd.segment_name;"
   ]
  },
  {
   "cell_type": "markdown",
   "id": "a70d0b41-5a0f-4456-a3bf-2709ae81c61f",
   "metadata": {},
   "source": [
    "### 3. What is the top selling product for each segment?"
   ]
  },
  {
   "cell_type": "code",
   "execution_count": 33,
   "id": "e6bffe3f-64f5-4bd6-9460-64956c99a5bd",
   "metadata": {},
   "outputs": [
    {
     "data": {
      "text/html": [
       "<table>\n",
       "<tr>\n",
       "<th>segment_name</th>\n",
       "<th>product_name</th>\n",
       "</tr>\n",
       "<tr>\n",
       "<td>Socks</td>\n",
       "<td>White Striped Socks - Mens</td>\n",
       "</tr>\n",
       "<tr>\n",
       "<td>Shirt</td>\n",
       "<td>White Tee Shirt - Mens</td>\n",
       "</tr>\n",
       "<tr>\n",
       "<td>Jeans</td>\n",
       "<td>Navy Oversized Jeans - Womens</td>\n",
       "</tr>\n",
       "<tr>\n",
       "<td>Jacket</td>\n",
       "<td>Indigo Rain Jacket - Womens</td>\n",
       "</tr>\n",
       "</table>"
      ],
      "text/plain": [
       "+--------------+-------------------------------+\n",
       "| segment_name | product_name                  |\n",
       "+--------------+-------------------------------+\n",
       "| Socks        | White Striped Socks - Mens    |\n",
       "+--------------+-------------------------------+\n",
       "| Shirt        | White Tee Shirt - Mens        |\n",
       "+--------------+-------------------------------+\n",
       "| Jeans        | Navy Oversized Jeans - Womens |\n",
       "+--------------+-------------------------------+\n",
       "| Jacket       | Indigo Rain Jacket - Womens   |\n",
       "+--------------+-------------------------------+"
      ]
     },
     "execution_count": 33,
     "metadata": {},
     "output_type": "execute_result"
    }
   ],
   "source": [
    "SELECT pd.segment_name, pd.product_name\n",
    "FROM sales as s\n",
    "INNER JOIN \n",
    "product_details as pd\n",
    "ON s.prod_id = pd.product_id\n",
    "GROUP BY pd.segment_name\n",
    "ORDER BY s.qty DESC;"
   ]
  },
  {
   "cell_type": "markdown",
   "id": "6c264c50-aa3c-44ad-806e-95616c2d812a",
   "metadata": {},
   "source": [
    "### 4. What is the total quantity, revenue and discount for each category?"
   ]
  },
  {
   "cell_type": "code",
   "execution_count": 31,
   "id": "8926d7e9-0605-4b45-bb8d-834ca8c2db7e",
   "metadata": {},
   "outputs": [
    {
     "data": {
      "text/html": [
       "<table>\n",
       "<tr>\n",
       "<th>category_name</th>\n",
       "<th>qty</th>\n",
       "<th>revenue</th>\n",
       "<th>discount</th>\n",
       "</tr>\n",
       "<tr>\n",
       "<td>Mens</td>\n",
       "<td>22482</td>\n",
       "<td>714120</td>\n",
       "<td>91508</td>\n",
       "</tr>\n",
       "<tr>\n",
       "<td>Womens</td>\n",
       "<td>22734</td>\n",
       "<td>575333</td>\n",
       "<td>91192</td>\n",
       "</tr>\n",
       "</table>"
      ],
      "text/plain": [
       "+---------------+-------+---------+----------+\n",
       "| category_name | qty   | revenue | discount |\n",
       "+---------------+-------+---------+----------+\n",
       "| Mens          | 22482 | 714120  | 91508    |\n",
       "+---------------+-------+---------+----------+\n",
       "| Womens        | 22734 | 575333  | 91192    |\n",
       "+---------------+-------+---------+----------+"
      ]
     },
     "execution_count": 31,
     "metadata": {},
     "output_type": "execute_result"
    }
   ],
   "source": [
    "SELECT pd.category_name, SUM(s.qty) AS qty, SUM((s.qty*s.price)*(1-s.discount/100)) AS revenue, \n",
    "        SUM(s.discount) AS discount\n",
    "FROM sales AS s\n",
    "INNER JOIN\n",
    "product_details as pd\n",
    "ON s.prod_id = pd.product_id\n",
    "GROUP BY pd.category_name;"
   ]
  },
  {
   "cell_type": "markdown",
   "id": "c36b9e6a-41d5-40ac-9349-2fa5eb35e10c",
   "metadata": {},
   "source": [
    "### 5. What is the top selling product for each category?"
   ]
  },
  {
   "cell_type": "code",
   "execution_count": 34,
   "id": "d6bf81ad-194d-44fe-a986-fb5860294f27",
   "metadata": {},
   "outputs": [
    {
     "data": {
      "text/html": [
       "<table>\n",
       "<tr>\n",
       "<th>category_name</th>\n",
       "<th>product_name</th>\n",
       "</tr>\n",
       "<tr>\n",
       "<td>Womens</td>\n",
       "<td>Navy Oversized Jeans - Womens</td>\n",
       "</tr>\n",
       "<tr>\n",
       "<td>Mens</td>\n",
       "<td>White Tee Shirt - Mens</td>\n",
       "</tr>\n",
       "</table>"
      ],
      "text/plain": [
       "+---------------+-------------------------------+\n",
       "| category_name | product_name                  |\n",
       "+---------------+-------------------------------+\n",
       "| Womens        | Navy Oversized Jeans - Womens |\n",
       "+---------------+-------------------------------+\n",
       "| Mens          | White Tee Shirt - Mens        |\n",
       "+---------------+-------------------------------+"
      ]
     },
     "execution_count": 34,
     "metadata": {},
     "output_type": "execute_result"
    }
   ],
   "source": [
    "SELECT pd.category_name, pd.product_name\n",
    "FROM sales as s\n",
    "INNER JOIN \n",
    "product_details as pd\n",
    "ON s.prod_id = pd.product_id\n",
    "GROUP BY pd.category_name\n",
    "ORDER BY s.qty DESC;"
   ]
  },
  {
   "cell_type": "markdown",
   "id": "d90f8c9e-1b34-4e19-bfeb-e1887d6daccc",
   "metadata": {},
   "source": [
    "### 6. What is the percentage split of revenue by product for each segment?"
   ]
  },
  {
   "cell_type": "code",
   "execution_count": 120,
   "id": "d4dba41a-d825-4c66-88f6-482272a9aa36",
   "metadata": {},
   "outputs": [
    {
     "data": {
      "text/html": [
       "<table>\n",
       "<tr>\n",
       "<th>product_name</th>\n",
       "<th>percentage</th>\n",
       "</tr>\n",
       "<tr>\n",
       "<td>Grey Fashion Jacket - Womens</td>\n",
       "<td>0.57</td>\n",
       "</tr>\n",
       "<tr>\n",
       "<td>Indigo Rain Jacket - Womens</td>\n",
       "<td>0.19</td>\n",
       "</tr>\n",
       "<tr>\n",
       "<td>Khaki Suit Jacket - Womens</td>\n",
       "<td>0.24</td>\n",
       "</tr>\n",
       "<tr>\n",
       "<td>Black Straight Jeans - Womens</td>\n",
       "<td>0.58</td>\n",
       "</tr>\n",
       "<tr>\n",
       "<td>Cream Relaxed Jeans - Womens</td>\n",
       "<td>0.18</td>\n",
       "</tr>\n",
       "<tr>\n",
       "<td>Navy Oversized Jeans - Womens</td>\n",
       "<td>0.24</td>\n",
       "</tr>\n",
       "<tr>\n",
       "<td>Blue Polo Shirt - Mens</td>\n",
       "<td>0.54</td>\n",
       "</tr>\n",
       "<tr>\n",
       "<td>Teal Button Up Shirt - Mens</td>\n",
       "<td>0.09</td>\n",
       "</tr>\n",
       "<tr>\n",
       "<td>White Tee Shirt - Mens</td>\n",
       "<td>0.37</td>\n",
       "</tr>\n",
       "<tr>\n",
       "<td>Navy Solid Socks - Mens</td>\n",
       "<td>0.44</td>\n",
       "</tr>\n",
       "<tr>\n",
       "<td>Pink Fluro Polkadot Socks - Mens</td>\n",
       "<td>0.35</td>\n",
       "</tr>\n",
       "<tr>\n",
       "<td>White Striped Socks - Mens</td>\n",
       "<td>0.2</td>\n",
       "</tr>\n",
       "</table>"
      ],
      "text/plain": [
       "+----------------------------------+------------+\n",
       "| product_name                     | percentage |\n",
       "+----------------------------------+------------+\n",
       "| Grey Fashion Jacket - Womens     | 0.57       |\n",
       "+----------------------------------+------------+\n",
       "| Indigo Rain Jacket - Womens      | 0.19       |\n",
       "+----------------------------------+------------+\n",
       "| Khaki Suit Jacket - Womens       | 0.24       |\n",
       "+----------------------------------+------------+\n",
       "| Black Straight Jeans - Womens    | 0.58       |\n",
       "+----------------------------------+------------+\n",
       "| Cream Relaxed Jeans - Womens     | 0.18       |\n",
       "+----------------------------------+------------+\n",
       "| Navy Oversized Jeans - Womens    | 0.24       |\n",
       "+----------------------------------+------------+\n",
       "| Blue Polo Shirt - Mens           | 0.54       |\n",
       "+----------------------------------+------------+\n",
       "| Teal Button Up Shirt - Mens      | 0.09       |\n",
       "+----------------------------------+------------+\n",
       "| White Tee Shirt - Mens           | 0.37       |\n",
       "+----------------------------------+------------+\n",
       "| Navy Solid Socks - Mens          | 0.44       |\n",
       "+----------------------------------+------------+\n",
       "| Pink Fluro Polkadot Socks - Mens | 0.35       |\n",
       "+----------------------------------+------------+\n",
       "| White Striped Socks - Mens       | 0.2        |\n",
       "+----------------------------------+------------+"
      ]
     },
     "execution_count": 120,
     "metadata": {},
     "output_type": "execute_result"
    }
   ],
   "source": [
    "SELECT pd.product_name, ROUND(SUM(s.qty*s.price*1.0)/\n",
    "    (SELECT SUM(s2.qty*s2.price*1.0) \n",
    "     FROM sales AS s2\n",
    "     INNER JOIN product_details as pd2\n",
    "     ON s2.prod_id = pd2.product_id \n",
    "     WHERE pd.segment_name = pd2.segment_name), 2) AS percentage\n",
    "FROM sales AS s\n",
    "INNER JOIN product_details as pd\n",
    "ON s.prod_id = pd.product_id \n",
    "GROUP BY pd.product_name\n",
    "ORDER BY pd.segment_name;"
   ]
  },
  {
   "cell_type": "markdown",
   "id": "4f3b2611-a55f-46b6-a06a-5935c7d3b766",
   "metadata": {},
   "source": [
    "### 7. What is the percentage split of revenue by segment for each category?"
   ]
  },
  {
   "cell_type": "code",
   "execution_count": 121,
   "id": "91834b4d-9dac-4ff3-97a6-208ac80b24a5",
   "metadata": {},
   "outputs": [
    {
     "data": {
      "text/html": [
       "<table>\n",
       "<tr>\n",
       "<th>segment_name</th>\n",
       "<th>percentage</th>\n",
       "</tr>\n",
       "<tr>\n",
       "<td>Shirt</td>\n",
       "<td>0.57</td>\n",
       "</tr>\n",
       "<tr>\n",
       "<td>Socks</td>\n",
       "<td>0.43</td>\n",
       "</tr>\n",
       "<tr>\n",
       "<td>Jacket</td>\n",
       "<td>0.64</td>\n",
       "</tr>\n",
       "<tr>\n",
       "<td>Jeans</td>\n",
       "<td>0.36</td>\n",
       "</tr>\n",
       "</table>"
      ],
      "text/plain": [
       "+--------------+------------+\n",
       "| segment_name | percentage |\n",
       "+--------------+------------+\n",
       "| Shirt        | 0.57       |\n",
       "+--------------+------------+\n",
       "| Socks        | 0.43       |\n",
       "+--------------+------------+\n",
       "| Jacket       | 0.64       |\n",
       "+--------------+------------+\n",
       "| Jeans        | 0.36       |\n",
       "+--------------+------------+"
      ]
     },
     "execution_count": 121,
     "metadata": {},
     "output_type": "execute_result"
    }
   ],
   "source": [
    "SELECT pd.segment_name, ROUND(SUM(s.qty*s.price*1.0)/\n",
    "    (SELECT SUM(s2.qty*s2.price*1.0) \n",
    "     FROM sales AS s2\n",
    "     INNER JOIN product_details as pd2\n",
    "     ON s2.prod_id = pd2.product_id \n",
    "     WHERE pd.category_name = pd2.category_name), 2) AS percentage\n",
    "FROM sales AS s\n",
    "INNER JOIN product_details as pd\n",
    "ON s.prod_id = pd.product_id \n",
    "GROUP BY pd.segment_name\n",
    "ORDER BY pd.category_name;"
   ]
  },
  {
   "cell_type": "markdown",
   "id": "e54d587e-62db-4cf0-96d1-57b8796ca350",
   "metadata": {},
   "source": [
    "### 8. What is the percentage split of total revenue by category?"
   ]
  },
  {
   "cell_type": "code",
   "execution_count": 124,
   "id": "f1ed6c72-28df-47dc-aa26-df551fbc06d7",
   "metadata": {},
   "outputs": [
    {
     "data": {
      "text/html": [
       "<table>\n",
       "<tr>\n",
       "<th>percentage</th>\n",
       "</tr>\n",
       "<tr>\n",
       "<td>0.55</td>\n",
       "</tr>\n",
       "<tr>\n",
       "<td>0.45</td>\n",
       "</tr>\n",
       "</table>"
      ],
      "text/plain": [
       "+------------+\n",
       "| percentage |\n",
       "+------------+\n",
       "| 0.55       |\n",
       "+------------+\n",
       "| 0.45       |\n",
       "+------------+"
      ]
     },
     "execution_count": 124,
     "metadata": {},
     "output_type": "execute_result"
    }
   ],
   "source": [
    "SELECT ROUND(SUM(s.qty*s.price*1.0)/\n",
    "             (SELECT SUM(qty*price*1.0)\n",
    "              FROM sales), 2) AS percentage\n",
    "FROM sales AS s\n",
    "INNER JOIN product_details as pd\n",
    "ON s.prod_id = pd.product_id \n",
    "GROUP BY pd.category_name"
   ]
  },
  {
   "cell_type": "markdown",
   "id": "8c3dcb32-d3a9-47e9-b9de-aaecd1b4b952",
   "metadata": {},
   "source": [
    "### 9. What is the total transaction “penetration” for each product? (hint: penetration = number of transactions where at least 1 quantity of a product was purchased divided by total number of transactions)"
   ]
  },
  {
   "cell_type": "code",
   "execution_count": 147,
   "id": "58b8c4b8-219d-43eb-89d6-f0c054c7fe26",
   "metadata": {},
   "outputs": [
    {
     "data": {
      "text/html": [
       "<table>\n",
       "<tr>\n",
       "<th>product_name</th>\n",
       "<th>percentage</th>\n",
       "</tr>\n",
       "<tr>\n",
       "<td>Navy Solid Socks - Mens</td>\n",
       "<td>0.084863</td>\n",
       "</tr>\n",
       "<tr>\n",
       "<td>Grey Fashion Jacket - Womens</td>\n",
       "<td>0.084465</td>\n",
       "</tr>\n",
       "<tr>\n",
       "<td>Navy Oversized Jeans - Womens</td>\n",
       "<td>0.084399</td>\n",
       "</tr>\n",
       "<tr>\n",
       "<td>White Tee Shirt - Mens</td>\n",
       "<td>0.084001</td>\n",
       "</tr>\n",
       "<tr>\n",
       "<td>Blue Polo Shirt - Mens</td>\n",
       "<td>0.084001</td>\n",
       "</tr>\n",
       "<tr>\n",
       "<td>Pink Fluro Polkadot Socks - Mens</td>\n",
       "<td>0.083339</td>\n",
       "</tr>\n",
       "<tr>\n",
       "<td>Indigo Rain Jacket - Womens</td>\n",
       "<td>0.082809</td>\n",
       "</tr>\n",
       "<tr>\n",
       "<td>Khaki Suit Jacket - Womens</td>\n",
       "<td>0.08261</td>\n",
       "</tr>\n",
       "<tr>\n",
       "<td>Black Straight Jeans - Womens</td>\n",
       "<td>0.082544</td>\n",
       "</tr>\n",
       "<tr>\n",
       "<td>Cream Relaxed Jeans - Womens</td>\n",
       "<td>0.082345</td>\n",
       "</tr>\n",
       "<tr>\n",
       "<td>White Striped Socks - Mens</td>\n",
       "<td>0.082345</td>\n",
       "</tr>\n",
       "<tr>\n",
       "<td>Teal Button Up Shirt - Mens</td>\n",
       "<td>0.082279</td>\n",
       "</tr>\n",
       "</table>"
      ],
      "text/plain": [
       "+----------------------------------+------------+\n",
       "| product_name                     | percentage |\n",
       "+----------------------------------+------------+\n",
       "| Navy Solid Socks - Mens          | 0.084863   |\n",
       "+----------------------------------+------------+\n",
       "| Grey Fashion Jacket - Womens     | 0.084465   |\n",
       "+----------------------------------+------------+\n",
       "| Navy Oversized Jeans - Womens    | 0.084399   |\n",
       "+----------------------------------+------------+\n",
       "| White Tee Shirt - Mens           | 0.084001   |\n",
       "+----------------------------------+------------+\n",
       "| Blue Polo Shirt - Mens           | 0.084001   |\n",
       "+----------------------------------+------------+\n",
       "| Pink Fluro Polkadot Socks - Mens | 0.083339   |\n",
       "+----------------------------------+------------+\n",
       "| Indigo Rain Jacket - Womens      | 0.082809   |\n",
       "+----------------------------------+------------+\n",
       "| Khaki Suit Jacket - Womens       | 0.08261    |\n",
       "+----------------------------------+------------+\n",
       "| Black Straight Jeans - Womens    | 0.082544   |\n",
       "+----------------------------------+------------+\n",
       "| Cream Relaxed Jeans - Womens     | 0.082345   |\n",
       "+----------------------------------+------------+\n",
       "| White Striped Socks - Mens       | 0.082345   |\n",
       "+----------------------------------+------------+\n",
       "| Teal Button Up Shirt - Mens      | 0.082279   |\n",
       "+----------------------------------+------------+"
      ]
     },
     "execution_count": 147,
     "metadata": {},
     "output_type": "execute_result"
    }
   ],
   "source": [
    "SELECT pd.product_name, ROUND(COUNT(txn_id) * 1.0/\n",
    "    (SELECT COUNT(txn_id)*1.0 \n",
    "     FROM sales), 6) AS percentage\n",
    "FROM sales AS s\n",
    "INNER JOIN product_details as pd\n",
    "ON s.prod_id = pd.product_id \n",
    "GROUP BY prod_id\n",
    "ORDER BY percentage DESC"
   ]
  },
  {
   "cell_type": "markdown",
   "id": "e9b9dd64-8ffe-4ff7-8e8c-1b52a02cda53",
   "metadata": {},
   "source": [
    "### 10. What is the most common combination of at least 1 quantity of any 3 products in a 1 single transaction?"
   ]
  },
  {
   "cell_type": "code",
   "execution_count": 23,
   "id": "8ec2ccef-dca2-46a6-9614-c32400ed141e",
   "metadata": {},
   "outputs": [
    {
     "data": {
      "text/html": [
       "<table>\n",
       "<tr>\n",
       "<th>product_name</th>\n",
       "<th>product_name</th>\n",
       "<th>product_name</th>\n",
       "<th>count</th>\n",
       "</tr>\n",
       "<tr>\n",
       "<td>White Tee Shirt - Mens</td>\n",
       "<td>Grey Fashion Jacket - Womens</td>\n",
       "<td>Teal Button Up Shirt - Mens</td>\n",
       "<td>352</td>\n",
       "</tr>\n",
       "</table>"
      ],
      "text/plain": [
       "+------------------------+------------------------------+-----------------------------+-------+\n",
       "| product_name           | product_name                 | product_name                | count |\n",
       "+------------------------+------------------------------+-----------------------------+-------+\n",
       "| White Tee Shirt - Mens | Grey Fashion Jacket - Womens | Teal Button Up Shirt - Mens | 352   |\n",
       "+------------------------+------------------------------+-----------------------------+-------+"
      ]
     },
     "execution_count": 23,
     "metadata": {},
     "output_type": "execute_result"
    }
   ],
   "source": [
    "WITH combination AS (\n",
    "    SELECT DISTINCT prod_id, product_name\n",
    "    FROM sales AS s\n",
    "    INNER JOIN product_details AS pd\n",
    "    ON pd.product_id = s.prod_id\n",
    "    ORDER BY prod_id)\n",
    "    \n",
    "SELECT c1.product_name, c2.product_name, c3.product_name, \n",
    "    (SELECT COUNT(*)\n",
    "    FROM sales as s1\n",
    "    INNER JOIN sales as s2\n",
    "    ON s1.txn_id = s2.txn_id\n",
    "    INNER JOIN sales as s3\n",
    "    ON s1.txn_id = s3.txn_id\n",
    "    WHERE s1.prod_id = c1.prod_id AND\n",
    "    s2.prod_id = c2.prod_id AND s3.prod_id = c3.prod_id) AS count \n",
    "FROM combination AS c1, combination as c2, combination as c3\n",
    "WHERE c1.prod_id < c2.prod_id AND\n",
    "    c2.prod_id < c3.prod_id \n",
    "ORDER BY count DESC\n",
    "LIMIT 1;"
   ]
  }
 ],
 "metadata": {
  "kernelspec": {
   "display_name": "xsqlite",
   "language": "sqlite",
   "name": "xsqlite"
  },
  "language_info": {
   "codemirror_mode": "sql",
   "file_extension": "",
   "mimetype": "",
   "name": "sql",
   "version": "3.33.0"
  }
 },
 "nbformat": 4,
 "nbformat_minor": 5
}
